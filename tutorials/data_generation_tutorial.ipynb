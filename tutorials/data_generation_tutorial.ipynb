{
 "cells": [
  {
   "cell_type": "markdown",
   "metadata": {},
   "source": [
    "# Data Generation Tutorial"
   ]
  },
  {
   "cell_type": "markdown",
   "metadata": {},
   "source": [
    "## Introduction"
   ]
  },
  {
   "cell_type": "markdown",
   "metadata": {},
   "source": [
    "In this tutorial, I'll walk you through on how to generate syntheic data using state of the art deep learning architectures in `Teras`.\n",
    "\n",
    "**Model**: `CTGAN`\n",
    "\n",
    "**Dataset**: Gemstone dataset (from Kaggle)\n",
    "\n",
    "**Task**: Generating synthetic data using CTGAN"
   ]
  },
  {
   "cell_type": "markdown",
   "metadata": {},
   "source": [
    "## Data Loading and Preprocessing"
   ]
  },
  {
   "cell_type": "code",
   "execution_count": 1,
   "metadata": {},
   "outputs": [
    {
     "data": {
      "text/html": [
       "<div>\n",
       "<style scoped>\n",
       "    .dataframe tbody tr th:only-of-type {\n",
       "        vertical-align: middle;\n",
       "    }\n",
       "\n",
       "    .dataframe tbody tr th {\n",
       "        vertical-align: top;\n",
       "    }\n",
       "\n",
       "    .dataframe thead th {\n",
       "        text-align: right;\n",
       "    }\n",
       "</style>\n",
       "<table border=\"1\" class=\"dataframe\">\n",
       "  <thead>\n",
       "    <tr style=\"text-align: right;\">\n",
       "      <th></th>\n",
       "      <th>carat</th>\n",
       "      <th>cut</th>\n",
       "      <th>color</th>\n",
       "      <th>clarity</th>\n",
       "      <th>depth</th>\n",
       "      <th>table</th>\n",
       "      <th>x</th>\n",
       "      <th>y</th>\n",
       "      <th>z</th>\n",
       "      <th>price</th>\n",
       "    </tr>\n",
       "  </thead>\n",
       "  <tbody>\n",
       "    <tr>\n",
       "      <th>0</th>\n",
       "      <td>1.52</td>\n",
       "      <td>Premium</td>\n",
       "      <td>F</td>\n",
       "      <td>VS2</td>\n",
       "      <td>62.2</td>\n",
       "      <td>58.0</td>\n",
       "      <td>7.27</td>\n",
       "      <td>7.33</td>\n",
       "      <td>4.55</td>\n",
       "      <td>13619</td>\n",
       "    </tr>\n",
       "    <tr>\n",
       "      <th>1</th>\n",
       "      <td>2.03</td>\n",
       "      <td>Very Good</td>\n",
       "      <td>J</td>\n",
       "      <td>SI2</td>\n",
       "      <td>62.0</td>\n",
       "      <td>58.0</td>\n",
       "      <td>8.06</td>\n",
       "      <td>8.12</td>\n",
       "      <td>5.05</td>\n",
       "      <td>13387</td>\n",
       "    </tr>\n",
       "    <tr>\n",
       "      <th>2</th>\n",
       "      <td>0.70</td>\n",
       "      <td>Ideal</td>\n",
       "      <td>G</td>\n",
       "      <td>VS1</td>\n",
       "      <td>61.2</td>\n",
       "      <td>57.0</td>\n",
       "      <td>5.69</td>\n",
       "      <td>5.73</td>\n",
       "      <td>3.50</td>\n",
       "      <td>2772</td>\n",
       "    </tr>\n",
       "  </tbody>\n",
       "</table>\n",
       "</div>"
      ],
      "text/plain": [
       "   carat        cut color clarity  depth  table     x     y     z  price\n",
       "0   1.52    Premium     F     VS2   62.2   58.0  7.27  7.33  4.55  13619\n",
       "1   2.03  Very Good     J     SI2   62.0   58.0  8.06  8.12  5.05  13387\n",
       "2   0.70      Ideal     G     VS1   61.2   57.0  5.69  5.73  3.50   2772"
      ]
     },
     "execution_count": 1,
     "metadata": {},
     "output_type": "execute_result"
    }
   ],
   "source": [
    "import pandas as pd\n",
    "\n",
    "# We'll use the first 10000 instances\n",
    "# We also drop the id column since that is useless\n",
    "gem_df = pd.read_csv(\"./datasets/gemstone_dataset.csv\").drop(\"id\", axis=1)[:10000]\n",
    "gem_df.head(3)"
   ]
  },
  {
   "cell_type": "code",
   "execution_count": 2,
   "metadata": {},
   "outputs": [],
   "source": [
    "categorical_feats = [\"cut\", \"color\", \"clarity\"]\n",
    "numerical_feats = [\"carat\", \"depth\", \"table\", \"x\", \"y\", \"z\"]"
   ]
  },
  {
   "cell_type": "markdown",
   "metadata": {},
   "source": [
    "### Data Transformer and Data Sampler classes for Generative models:"
   ]
  },
  {
   "cell_type": "markdown",
   "metadata": {},
   "source": [
    "The generative architectures like `GAIN`, `PCGAIN`, `CTGAN` and `TVAE` require sophisticated data preprocessing and transformation as well as how the batches of data are generated, hence to make it easier for the users, `Teras` implements `DataTransformer` and `DataSampler` classes for each of these models.\n",
    "\n",
    "These can be imported from the `teras.preprocessing.<architecture_name>` module.\n",
    "For instance, for CTGAN, we'll import its `DataSampler` and `DataTransformer` classes as follows,\n",
    "\n",
    "`from teras.preprocessing.ctgan import DataSampler, DataTransformer`"
   ]
  },
  {
   "cell_type": "code",
   "execution_count": null,
   "metadata": {},
   "outputs": [],
   "source": [
    "from teras.preprocessing.ctgan import DataTransformer, DataSampler\n",
    "\n",
    "data_transformer = DataTransformer(numerical_features=numerical_feats,\n",
    "                                   categorical_features=categorical_feats)\n",
    "gem_transformed = data_transformer.fit_transform(gem_df)\n",
    "\n",
    "data_sampler = DataSampler(meta_data=data_transformer.get_meta_data(),\n",
    "                           categorical_features=categorical_feats,\n",
    "                           numerical_features=numerical_feats,\n",
    "                           batch_size=1024)\n",
    "dataset = data_sampler.get_dataset(x_transformed=gem_transformed,\n",
    "                                   x_original=gem_df)"
   ]
  },
  {
   "cell_type": "markdown",
   "metadata": {},
   "source": [
    "## Training "
   ]
  },
  {
   "cell_type": "code",
   "execution_count": null,
   "metadata": {},
   "outputs": [],
   "source": [
    "from teras.generative import CTGAN"
   ]
  },
  {
   "cell_type": "markdown",
   "metadata": {},
   "source": [
    "Notice how we use `data_sampler.data_dim` instead of the dimensions of the original dataset. \n",
    "\n",
    "That is because during data transformation, most of the time the data dimensions are expanded by quite a lot so it's safer to use `DataSampler`'s `.data_dim` attribute.\n",
    "\n",
    "Similary we pass `meta_data` using the `.get_meta_data()` method of\n",
    "the `DataTransformer` class."
   ]
  },
  {
   "cell_type": "code",
   "execution_count": 5,
   "metadata": {},
   "outputs": [],
   "source": [
    "ctgan = CTGAN(data_dim=data_sampler.data_dim,\n",
    "              meta_data=data_transformer.get_meta_data())"
   ]
  },
  {
   "cell_type": "markdown",
   "metadata": {},
   "source": [
    "For highly customized architectures like these, which employ custom loss functions, `Teras` has default values in place.\n",
    "So it's recommended to just call the `compile` method without any parameters unless you understand the underlying structure.\n",
    "\n",
    "Read more at **Section 4** of *General Guidelines and FAQs* notebook in tutorial directory."
   ]
  },
  {
   "cell_type": "code",
   "execution_count": 6,
   "metadata": {},
   "outputs": [],
   "source": [
    "ctgan.compile()"
   ]
  },
  {
   "cell_type": "code",
   "execution_count": null,
   "metadata": {},
   "outputs": [],
   "source": [
    "history = ctgan.fit(dataset, epochs=2)"
   ]
  },
  {
   "cell_type": "markdown",
   "metadata": {},
   "source": [
    "## Generating new data"
   ]
  },
  {
   "cell_type": "markdown",
   "metadata": {},
   "source": [
    "All generative models offered by `Teras` have a `.generate` method that can be used after training to generate new data samples.\n",
    "\n",
    "The `.generate` method expects the `num_samples` parameter along with the instance of `DataSampler` class and  the instance of `DataTransformer` class that was used to transform the original data during the preprocessing step which is used to resverse transform the generated data back to original data format."
   ]
  },
  {
   "cell_type": "code",
   "execution_count": 8,
   "metadata": {},
   "outputs": [
    {
     "name": "stderr",
     "output_type": "stream",
     "text": [
      "Generating Data: 100%|██████████| 1/1 [00:01<00:00,  1.32s/it]\n"
     ]
    },
    {
     "data": {
      "text/html": [
       "<div>\n",
       "<style scoped>\n",
       "    .dataframe tbody tr th:only-of-type {\n",
       "        vertical-align: middle;\n",
       "    }\n",
       "\n",
       "    .dataframe tbody tr th {\n",
       "        vertical-align: top;\n",
       "    }\n",
       "\n",
       "    .dataframe thead th {\n",
       "        text-align: right;\n",
       "    }\n",
       "</style>\n",
       "<table border=\"1\" class=\"dataframe\">\n",
       "  <thead>\n",
       "    <tr style=\"text-align: right;\">\n",
       "      <th></th>\n",
       "      <th>carat</th>\n",
       "      <th>depth</th>\n",
       "      <th>table</th>\n",
       "      <th>x</th>\n",
       "      <th>y</th>\n",
       "      <th>z</th>\n",
       "      <th>cut</th>\n",
       "      <th>color</th>\n",
       "      <th>clarity</th>\n",
       "    </tr>\n",
       "  </thead>\n",
       "  <tbody>\n",
       "    <tr>\n",
       "      <th>0</th>\n",
       "      <td>1.360215</td>\n",
       "      <td>60.123539</td>\n",
       "      <td>62.105259</td>\n",
       "      <td>6.442325</td>\n",
       "      <td>5.218063</td>\n",
       "      <td>3.226227</td>\n",
       "      <td>Fair</td>\n",
       "      <td>G</td>\n",
       "      <td>SI1</td>\n",
       "    </tr>\n",
       "    <tr>\n",
       "      <th>1</th>\n",
       "      <td>1.294181</td>\n",
       "      <td>61.860909</td>\n",
       "      <td>55.327568</td>\n",
       "      <td>6.760636</td>\n",
       "      <td>5.747765</td>\n",
       "      <td>5.011518</td>\n",
       "      <td>Very Good</td>\n",
       "      <td>G</td>\n",
       "      <td>SI1</td>\n",
       "    </tr>\n",
       "    <tr>\n",
       "      <th>2</th>\n",
       "      <td>0.891586</td>\n",
       "      <td>63.083645</td>\n",
       "      <td>54.066082</td>\n",
       "      <td>6.760636</td>\n",
       "      <td>5.747765</td>\n",
       "      <td>5.012003</td>\n",
       "      <td>Very Good</td>\n",
       "      <td>G</td>\n",
       "      <td>SI1</td>\n",
       "    </tr>\n",
       "    <tr>\n",
       "      <th>3</th>\n",
       "      <td>0.327514</td>\n",
       "      <td>60.526867</td>\n",
       "      <td>57.000118</td>\n",
       "      <td>7.525471</td>\n",
       "      <td>5.747765</td>\n",
       "      <td>5.011518</td>\n",
       "      <td>Very Good</td>\n",
       "      <td>G</td>\n",
       "      <td>SI1</td>\n",
       "    </tr>\n",
       "    <tr>\n",
       "      <th>4</th>\n",
       "      <td>1.495654</td>\n",
       "      <td>63.083645</td>\n",
       "      <td>53.911446</td>\n",
       "      <td>6.786330</td>\n",
       "      <td>5.747765</td>\n",
       "      <td>5.021211</td>\n",
       "      <td>Very Good</td>\n",
       "      <td>G</td>\n",
       "      <td>SI1</td>\n",
       "    </tr>\n",
       "  </tbody>\n",
       "</table>\n",
       "</div>"
      ],
      "text/plain": [
       "      carat      depth      table         x         y         z        cut  \\\n",
       "0  1.360215  60.123539  62.105259  6.442325  5.218063  3.226227       Fair   \n",
       "1  1.294181  61.860909  55.327568  6.760636  5.747765  5.011518  Very Good   \n",
       "2  0.891586  63.083645  54.066082  6.760636  5.747765  5.012003  Very Good   \n",
       "3  0.327514  60.526867  57.000118  7.525471  5.747765  5.011518  Very Good   \n",
       "4  1.495654  63.083645  53.911446  6.786330  5.747765  5.021211  Very Good   \n",
       "\n",
       "  color clarity  \n",
       "0     G     SI1  \n",
       "1     G     SI1  \n",
       "2     G     SI1  \n",
       "3     G     SI1  \n",
       "4     G     SI1  "
      ]
     },
     "execution_count": 8,
     "metadata": {},
     "output_type": "execute_result"
    }
   ],
   "source": [
    "generated_data = ctgan.generate(num_samples=1000,\n",
    "                                data_sampler=data_sampler,\n",
    "                                data_transformer=data_transformer,\n",
    "                                reverse_transform=True)\n",
    "generated_data.head()"
   ]
  },
  {
   "cell_type": "markdown",
   "metadata": {},
   "source": [
    "## Wrapping it up!"
   ]
  },
  {
   "cell_type": "markdown",
   "metadata": {},
   "source": [
    "And that wraps up our data imputation tutorial using Teras.\n",
    "\n",
    "If you need more help, consult documentation, and other available resources and if that still leaves you with questions, feel free to raise an issue or email me khawaja.abaid@gmail.com\n",
    "\n",
    "If you find `Teras` useful, please consider giving it a star on GitHub and sharing it with others!\n",
    "\n",
    "Thank you!"
   ]
  }
 ],
 "metadata": {
  "kernelspec": {
   "display_name": "ML",
   "language": "python",
   "name": "python3"
  },
  "language_info": {
   "codemirror_mode": {
    "name": "ipython",
    "version": 3
   },
   "file_extension": ".py",
   "mimetype": "text/x-python",
   "name": "python",
   "nbconvert_exporter": "python",
   "pygments_lexer": "ipython3",
   "version": "3.10.10"
  },
  "orig_nbformat": 4
 },
 "nbformat": 4,
 "nbformat_minor": 2
}
